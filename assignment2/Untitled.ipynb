{
 "cells": [
  {
   "cell_type": "code",
   "execution_count": 1,
   "metadata": {
    "collapsed": false
   },
   "outputs": [],
   "source": [
    "import numpy as np\n",
    "import matplotlib.pyplot as plt\n",
    "import pandas\n",
    "from numpy.linalg import inv\n",
    "import random\n",
    "import csv\n",
    "import math\n",
    "\n",
    "\n",
    "cov = []\n",
    "mean0 = []\n",
    "mean1 = []\n",
    "with open('./data/DS1_Cov.txt') as f:\n",
    "    for line in f:\n",
    "        to_add = line.split(',')\n",
    "        to_add = [float(i) for i in to_add[0:len(to_add) - 1]]\n",
    "        cov.append(to_add)\n",
    "\n",
    "with open('./data/DS1_m_0.txt') as f:\n",
    "    for line in f:\n",
    "        to_add = line.split(',')\n",
    "        to_add = [float(i) for i in to_add[0:len(to_add) - 1]]\n",
    "        mean0.append(to_add)\n",
    "\n",
    "        \n",
    "with open('./data/DS1_m_1.txt') as f:\n",
    "    for line in f:\n",
    "        to_add = line.split(',')\n",
    "        to_add = [float(i) for i in to_add[0:len(to_add) - 1]]\n",
    "        mean1.append(to_add)\n",
    "    "
   ]
  },
  {
   "cell_type": "code",
   "execution_count": 2,
   "metadata": {
    "collapsed": false
   },
   "outputs": [],
   "source": [
    "def sampling(data_array):\n",
    "    np.random.shuffle(data_array)\n",
    "    test_set = []\n",
    "    train_set = []\n",
    "    for row in data_array[0:600]:\n",
    "        test_set.append(row)\n",
    "    \n",
    "    for row in data_array[600:2001]:\n",
    "        train_set.append(row)\n",
    "        \n",
    "    return test_set,train_set\n",
    "    "
   ]
  },
  {
   "cell_type": "code",
   "execution_count": 3,
   "metadata": {
    "collapsed": false
   },
   "outputs": [],
   "source": [
    "positive = np.random.multivariate_normal(mean1[0],cov, 2000)\n",
    "negative = np.random.multivariate_normal(mean0[0],cov, 2000)"
   ]
  },
  {
   "cell_type": "code",
   "execution_count": 4,
   "metadata": {
    "collapsed": false
   },
   "outputs": [],
   "source": [
    "test1,train1 = sampling(positive)\n",
    "t_1 = [1 for i in range(0,1400)]\n",
    "test2,train2 = sampling(negative)\n",
    "t_0 = [0 for i in range(0,1400)]\n",
    "X=list(train1)\n",
    "#t = t_1\n",
    "#t.extend(t_2)\n",
    "X.extend(train2)\n",
    "def MLE_estimator(train1, train2, t_0,t_1):\n",
    "    MLE_mean0 = (1/len(t_0))*(np.matmul(np.transpose(train1),t_0))\n",
    "    MLE_mean1 = (1/len(t_1))*(np.matmul(np.transpose(train2),t_1))\n",
    "    pi = len(t_1)/(len(t_1) + len(t_0))\n",
    "    S_1 = 1/(len(t_1)) * (np.matmul(np.transpose([(i - mean1)[0] for i in train1]),([(i - mean1)[0] for i in train1])))\n",
    "    #S_1 = positive\n",
    "    S_2 = 1/(len(t_1)) * (np.matmul(np.transpose([(i - mean0)[0] for i in train2]), [(i - mean0)[0] for i in train2]))\n",
    "\n",
    "    sigma = (len(t_1)/(len(t_1) + len(t_0)))*S_1 + (len(t_0)/(len(t_1) + len(t_0)))*S_2\n",
    "    \n",
    "    omega = np.matmul(inv(sigma), np.transpose(np.subtract(mean1, mean0)))\n",
    "    omega0 = (-1/2)*np.matmul(np.matmul(mean1,inv(sigma)),np.transpose(mean1)) + (1/2)*np.matmul(np.matmul(mean0,inv(sigma)),np.transpose(mean0))\n",
    "    return omega0,omega\n",
    "\n",
    "q2_omega0,q2_omega = MLE_estimator(train1,train2, t_0, t_1)\n"
   ]
  },
  {
   "cell_type": "markdown",
   "metadata": {
    "collapsed": false
   },
   "source": [
    "If entries are negative then, we know that probability of it being positive is less than $\\frac{1}{2}$, if entries are positive, the probabilitiy is greater than $\\frac{1}{2}$. Hence we can select for positive and negative entries."
   ]
  },
  {
   "cell_type": "code",
   "execution_count": 36,
   "metadata": {
    "collapsed": false
   },
   "outputs": [
    {
     "name": "stdout",
     "output_type": "stream",
     "text": [
      "(574, 26)\n",
      "(29, 571)\n",
      "The accuracy of this classifier is 95.41666666666667%\n",
      "The precision of this classifier is 95.66666666666667%\n",
      "The recall of this classifier is 95.19071310116087%\n",
      "The F-measure of this classifier is 0.9542809642560266\n"
     ]
    }
   ],
   "source": [
    "\n",
    "pred1 = np.matmul(test1,q2_omega) + q2_omega0\n",
    "pred2 = np.matmul(test2,q2_omega) + q2_omega0\n",
    "\n",
    "def count(mat):\n",
    "    positive = 0\n",
    "    negative = 0\n",
    "    for i in mat:\n",
    "        if (i > 0):\n",
    "            positive +=1\n",
    "        else:\n",
    "            negative +=1\n",
    "    return positive, negative\n",
    "print(count(pred1))\n",
    "print(count(pred2))\n",
    "\n",
    "accuracy = (count(pred1)[0] + count(pred2)[1])/1200\n",
    "precision = (count(pred1)[0])/(count(pred1)[0] + count(pred1)[1])\n",
    "recall = (count(pred1)[0])/(count(pred1)[0] + count(pred2)[0])\n",
    "\n",
    "\n",
    "\n",
    "print(\"The accuracy of this classifier is \" + str(100*accuracy) + \"%\")\n",
    "print(\"The precision of this classifier is \" + str(100*precision) + \"%\")\n",
    "print(\"The recall of this classifier is \" + str(100*recall) + \"%\")\n",
    "print(\"The F-measure of this classifier is \" + str((2*precision*recall)/(precision + recall)))\n"
   ]
  },
  {
   "cell_type": "code",
   "execution_count": 6,
   "metadata": {
    "collapsed": false
   },
   "outputs": [],
   "source": [
    "def distance(vector1, vector2):\n",
    "    out = 0\n",
    "    for i in range(0,len(vector1)):\n",
    "        out += pow((vector1[i] - vector2[i]),2)\n",
    "    return math.sqrt(out)\n",
    "\n",
    "def knearestneighbourhood(train,point,k):\n",
    "    distances = []\n",
    "    length = len(train)\n",
    "    for x in range(0,length):\n",
    "        dist = distance(point,X[x])\n",
    "        if (x < length/2):\n",
    "            distances.append((dist,1))\n",
    "        else:\n",
    "            distances.append((dist,0))\n",
    "    distances = sorted(distances)[:k]\n",
    "    frequency_p = 0\n",
    "    frequency_n = 0 \n",
    "    \n",
    "    for dist in distances:\n",
    "        if dist[1] == 0:\n",
    "            frequency_n += 1\n",
    "        elif dist[1] == 1:\n",
    "            frequency_p += 1\n",
    "    return 0 if frequency_n>frequency_p else 1\n"
   ]
  },
  {
   "cell_type": "code",
   "execution_count": 7,
   "metadata": {
    "collapsed": false
   },
   "outputs": [],
   "source": [
    "def resultsknearest(test,train,k):\n",
    "    out = []\n",
    "    for i in test:\n",
    "        out.append(knearestneighbourhood(train,i,k))\n",
    "    return out\n",
    "\n"
   ]
  },
  {
   "cell_type": "code",
   "execution_count": 8,
   "metadata": {
    "collapsed": false
   },
   "outputs": [],
   "source": [
    "positive_values = []\n",
    "negative_values = []\n",
    "for k in range(1,13):\n",
    "    sample1 = resultsknearest(test1, train1,k)\n",
    "    sample2 = resultsknearest(test2, train2,k)\n",
    "    positive_values.append(count(sample1))\n",
    "    negative_values.append(count(sample2))"
   ]
  },
  {
   "cell_type": "code",
   "execution_count": 43,
   "metadata": {
    "collapsed": false
   },
   "outputs": [
    {
     "name": "stdout",
     "output_type": "stream",
     "text": [
      "[(288, 312), (461, 139), (324, 276), (435, 165), (324, 276), (405, 195), (306, 294), (394, 206), (306, 294), (383, 217), (313, 287), (385, 215)]\n",
      "[(310, 290), (450, 150), (313, 287), (406, 194), (308, 292), (396, 204), (320, 280), (381, 219), (305, 295), (391, 209), (326, 274), (374, 226)]\n",
      "value of k that performs the best is  2\n",
      "The accuracy of this classifier is 50.916666666666664%\n",
      "The precision of this classifier is 76.83333333333333%\n",
      "The recall of this classifier is 50.60373216245884%\n",
      "The F-measure of this classifier is 0.6101919258769027\n"
     ]
    }
   ],
   "source": [
    "print(positive_values)\n",
    "print(negative_values)\n",
    "def best_fit(positive_values,negative_values):\n",
    "    \n",
    "    best_f_measure = -5\n",
    "    index = 0\n",
    "    for i in range(0,len(positive_values)):\n",
    "        accuracy = (positive_values[i][0] + negative_values[i][1])/1200\n",
    "        precision = (positive_values[i][0])/(positive_values[i][0] + positive_values[i][1])\n",
    "        recall = (positive_values[i][0])/(positive_values[i][0] + negative_values[i][0])\n",
    "        F_measure = 2*precision/(precision + recall)\n",
    "        if (F_measure > best_f_measure):\n",
    "            best_f_measure = F_measure\n",
    "            index = i\n",
    "    accuracy = (positive_values[index][0] + negative_values[index][1])/1200\n",
    "    precision = (positive_values[index][0])/(positive_values[index][0] + positive_values[index][1])\n",
    "    recall = (positive_values[index][0])/(positive_values[index][0] + negative_values[index][0])\n",
    "    F_measure = 2*(precision*recall)/(precision + recall)\n",
    "    \n",
    "    return accuracy,precision,recall,F_measure,index\n",
    "\n",
    "accuracy,precision,recall,F_measure,index = best_fit(positive_values,negative_values)\n",
    "print(\"value of k that performs the best is \", index+1)\n",
    "\n",
    "print(\"The accuracy of this classifier is \" + str(100*accuracy) + \"%\")\n",
    "print(\"The precision of this classifier is \" + str(100*precision) + \"%\")\n",
    "print(\"The recall of this classifier is \" + str(100*recall) + \"%\")\n",
    "print(\"The F-measure of this classifier is \" + str(2*(precision*recall)/(precision + recall)))\n",
    "    \n",
    "\n",
    "\n",
    "\n",
    "    \n",
    "\n"
   ]
  },
  {
   "cell_type": "code",
   "execution_count": 20,
   "metadata": {
    "collapsed": false
   },
   "outputs": [],
   "source": [
    "q4_cov1 = []\n",
    "q4_cov2 = []\n",
    "q4_cov3 = []\n",
    "q4_c1_mean1 = []\n",
    "q4_c1_mean2 = []\n",
    "q4_c1_mean3 = []\n",
    "q4_c2_mean1 = []\n",
    "q4_c2_mean2 = []\n",
    "q4_c2_mean3 = []\n",
    "probability = [0.1,0.42,0.48]\n",
    "\n",
    "with open('./data/DS2_Cov1.txt') as f:\n",
    "    for line in f:\n",
    "        to_add = line.split(',')\n",
    "        to_add = [float(i) for i in to_add[0:len(to_add) - 1]]\n",
    "        q4_cov1.append(to_add)\n",
    "with open('./data/DS2_Cov2.txt') as f:\n",
    "    for line in f:\n",
    "        to_add = line.split(',')\n",
    "        to_add = [float(i) for i in to_add[0:len(to_add) - 1]]\n",
    "        q4_cov2.append(to_add)\n",
    "with open('./data/DS2_Cov3.txt') as f:\n",
    "    for line in f:\n",
    "        to_add = line.split(',')\n",
    "        to_add = [float(i) for i in to_add[0:len(to_add) - 1]]\n",
    "        q4_cov3.append(to_add)      \n",
    "with open('./data/DS2_c1_m1.txt') as f:\n",
    "    for line in f:\n",
    "        to_add = line.split(',')\n",
    "        to_add = [float(i) for i in to_add[0:len(to_add) - 1]]\n",
    "        q4_c1_mean1.append(to_add)\n",
    "with open('./data/DS2_c1_m2.txt') as f:\n",
    "    for line in f:\n",
    "        to_add = line.split(',')\n",
    "        to_add = [float(i) for i in to_add[0:len(to_add) - 1]]\n",
    "        q4_c1_mean2.append(to_add)\n",
    "with open('./data/DS2_c1_m3.txt') as f:\n",
    "    for line in f:\n",
    "        to_add = line.split(',')\n",
    "        to_add = [float(i) for i in to_add[0:len(to_add) - 1]]\n",
    "        q4_c1_mean3.append(to_add)\n",
    "with open('./data/DS2_c2_m1.txt') as f:\n",
    "    for line in f:\n",
    "        to_add = line.split(',')\n",
    "        to_add = [float(i) for i in to_add[0:len(to_add) - 1]]\n",
    "        q4_c2_mean1.append(to_add)\n",
    "with open('./data/DS2_c2_m2.txt') as f:\n",
    "    for line in f:\n",
    "        to_add = line.split(',')\n",
    "        to_add = [float(i) for i in to_add[0:len(to_add) - 1]]\n",
    "        q4_c2_mean2.append(to_add)        \n",
    "with open('./data/DS2_c2_m3.txt') as f:\n",
    "    for line in f:\n",
    "        to_add = line.split(',')\n",
    "        to_add = [float(i) for i in to_add[0:len(to_add) - 1]]\n",
    "        q4_c2_mean3.append(to_add)        \n",
    "        \n",
    "sampling1 = np.random.multinomial(2000,probability)\n",
    "sampling2 = np.random.multinomial(2000,probability)\n",
    "class1_m1 = np.random.multivariate_normal(q4_c1_mean1[0],q4_cov1, sampling1[0])\n",
    "class1_m2 = np.random.multivariate_normal(q4_c1_mean2[0],q4_cov2, sampling1[1])\n",
    "class1_m3 = np.random.multivariate_normal(q4_c1_mean3[0],q4_cov3, sampling1[2])\n",
    "class2_m1 = np.random.multivariate_normal(q4_c2_mean1[0],q4_cov1, sampling1[0])\n",
    "class2_m2 = np.random.multivariate_normal(q4_c2_mean2[0],q4_cov2, sampling1[1])\n",
    "class2_m3 = np.random.multivariate_normal(q4_c2_mean3[0],q4_cov3, sampling1[2])\n",
    "positive2 = list(class1_m1)\n",
    "positive2.extend(list(class1_m2))\n",
    "positive2.extend(list(class1_m3))\n",
    "negative2 = list(class2_m1)\n",
    "negative2.extend(list(class2_m2))\n",
    "negative2.extend(list(class2_m3))\n",
    "\n",
    "q5_test1, q5_train1 = sampling(positive2)\n",
    "q5_t1 = [1 for i in range(0,1400)]\n",
    "q5_test2, q5_train2 = sampling(negative2)\n",
    "q5_t2 = [0 for i in range(0,1400)]\n",
    "\n",
    "q5_omega0, q5_omega = MLE_estimator(q5_train1,q5_train2,q5_t1, q5_t2)"
   ]
  },
  {
   "cell_type": "code",
   "execution_count": 21,
   "metadata": {
    "collapsed": true
   },
   "outputs": [],
   "source": [
    "q5_pred1 = np.matmul(q5_test1,q5_omega) + q5_omega0\n",
    "q5_pred2 = np.matmul(q5_test2,q5_omega) + q5_omega0\n"
   ]
  },
  {
   "cell_type": "code",
   "execution_count": 44,
   "metadata": {
    "collapsed": false
   },
   "outputs": [
    {
     "name": "stdout",
     "output_type": "stream",
     "text": [
      "(212, 388)\n",
      "(217, 383)\n",
      "The accuracy of this classifier is 49.583333333333336%\n",
      "The precision of this classifier is 35.333333333333336%\n",
      "The recall of this classifier is 49.417249417249415%\n",
      "The F-measure of this classifier is 0.8338192419825073\n"
     ]
    }
   ],
   "source": [
    "print(count(q5_pred1))\n",
    "print(count(q5_pred2))\n",
    "\n",
    "accuracy = (count(q5_pred1)[0] + count(q5_pred2)[1])/1200\n",
    "precision = (count(q5_pred1)[0])/(count(q5_pred1)[0] + count(q5_pred1)[1])\n",
    "recall = (count(q5_pred1)[0])/(count(q5_pred1)[0] + count(q5_pred2)[0])\n",
    "\n",
    "\n",
    "\n",
    "print(\"The accuracy of this classifier is \" + str(100*accuracy) + \"%\")\n",
    "print(\"The precision of this classifier is \" + str(100*precision) + \"%\")\n",
    "print(\"The recall of this classifier is \" + str(100*recall) + \"%\")\n",
    "print(\"The F-measure of this classifier is \" + str(2*precision/(precision + recall)))\n"
   ]
  },
  {
   "cell_type": "code",
   "execution_count": 19,
   "metadata": {
    "collapsed": false
   },
   "outputs": [],
   "source": [
    "q5_positive_values = []\n",
    "q5_negative_values = []\n",
    "for k in range(1,13):\n",
    "    sample1 = resultsknearest(q5_test1, q5_train1,k)\n",
    "    sample2 = resultsknearest(q5_test2, q5_train2,k)\n",
    "    q5_positive_values.append(count(sample1))\n",
    "    q5_negative_values.append(count(sample2))"
   ]
  },
  {
   "cell_type": "code",
   "execution_count": 14,
   "metadata": {
    "collapsed": false
   },
   "outputs": [
    {
     "name": "stdout",
     "output_type": "stream",
     "text": [
      "[(306, 294), (453, 147), (320, 280), (420, 180), (324, 276), (427, 173), (338, 262), (426, 174), (341, 259), (411, 189), (339, 261), (411, 189)]\n",
      "[(317, 283), (448, 152), (311, 289), (423, 177), (319, 281), (413, 187), (324, 276), (411, 189), (327, 273), (411, 189), (355, 245), (415, 185)]\n"
     ]
    }
   ],
   "source": [
    "print(q5_positive_values)\n",
    "print(q5_negative_values)"
   ]
  },
  {
   "cell_type": "code",
   "execution_count": 45,
   "metadata": {
    "collapsed": false
   },
   "outputs": [
    {
     "name": "stdout",
     "output_type": "stream",
     "text": [
      "value of k that performs the best is  2\n",
      "The accuracy of this classifier is 52.33333333333333%\n",
      "The precision of this classifier is 78.16666666666666%\n",
      "The recall of this classifier is 51.53846153846153%\n",
      "The F-measure of this classifier is 0.6211920529801324\n"
     ]
    }
   ],
   "source": [
    "q5_accuracy,q5_precision,q5_recall,q5_F_measure,q5_index = best_fit(q5_positive_values,q5_negative_values)\n",
    "print(\"value of k that performs the best is \", q5_index+1)\n",
    "print(\"The accuracy of this classifier is \" + str(100*q5_accuracy) + \"%\")\n",
    "print(\"The precision of this classifier is \" + str(100*q5_precision) + \"%\")\n",
    "print(\"The recall of this classifier is \" + str(100*q5_recall) + \"%\")\n",
    "print(\"The F-measure of this classifier is \" + str(2*(q5_precision*q5_recall)/(q5_precision + q5_recall)))\n"
   ]
  },
  {
   "cell_type": "markdown",
   "metadata": {},
   "source": [
    "We can see there is little to no difference in performace between these two data"
   ]
  },
  {
   "cell_type": "code",
   "execution_count": null,
   "metadata": {
    "collapsed": true
   },
   "outputs": [],
   "source": []
  },
  {
   "cell_type": "code",
   "execution_count": null,
   "metadata": {
    "collapsed": true
   },
   "outputs": [],
   "source": []
  },
  {
   "cell_type": "code",
   "execution_count": null,
   "metadata": {
    "collapsed": true
   },
   "outputs": [],
   "source": []
  },
  {
   "cell_type": "code",
   "execution_count": null,
   "metadata": {
    "collapsed": true
   },
   "outputs": [],
   "source": []
  },
  {
   "cell_type": "code",
   "execution_count": null,
   "metadata": {
    "collapsed": true
   },
   "outputs": [],
   "source": []
  },
  {
   "cell_type": "code",
   "execution_count": null,
   "metadata": {
    "collapsed": true
   },
   "outputs": [],
   "source": []
  },
  {
   "cell_type": "code",
   "execution_count": null,
   "metadata": {
    "collapsed": true
   },
   "outputs": [],
   "source": []
  }
 ],
 "metadata": {
  "anaconda-cloud": {},
  "kernelspec": {
   "display_name": "Python [conda env:py36]",
   "language": "python",
   "name": "conda-env-py36-py"
  },
  "language_info": {
   "codemirror_mode": {
    "name": "ipython",
    "version": 3
   },
   "file_extension": ".py",
   "mimetype": "text/x-python",
   "name": "python",
   "nbconvert_exporter": "python",
   "pygments_lexer": "ipython3",
   "version": "3.6.1"
  }
 },
 "nbformat": 4,
 "nbformat_minor": 1
}
