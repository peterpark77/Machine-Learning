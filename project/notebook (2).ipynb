{
 "cells": [
  {
   "cell_type": "code",
   "execution_count": 10,
   "metadata": {
    "_cell_guid": "b1076dfc-b9ad-4769-8c92-a6c4dae69d19",
    "_uuid": "8f2839f25d086af736a60e9eeb907d3b93b6e0e5"
   },
   "outputs": [],
   "source": [
    "# This Python 3 environment comes with many helpful analytics libraries installed\n",
    "# It is defined by the kaggle/python docker image: https://github.com/kaggle/docker-python\n",
    "# For example, here's several helpful packages to load in \n",
    "\n",
    "import numpy as np # linear algebra\n",
    "import pandas as pd # data processing, CSV file I/O (e.g. pd.read_csv)\n",
    "\n",
    "# Input data files are available in the \"../input/\" directory.\n",
    "# For example, running this (by clicking run or pressing Shift+Enter) will list the files in the input directory\n",
    "\n",
    "import skimage.measure as skm\n",
    "import skimage.transform as skt\n",
    "\n",
    "import matplotlib.pyplot as plt\n",
    "from random import seed\n",
    "from random import random\n",
    "import skimage.measure as skm\n",
    "import os\n",
    "from PIL import Image\n",
    "import random\n",
    "import pickle as pkl\n",
    "import numpy as np\n",
    "import argparse\n",
    "import copy as cp\n",
    "from sklearn.preprocessing import MultiLabelBinarizer\n",
    "\n",
    "\n",
    "\n",
    "\n",
    "\n",
    "# Any results you write to the current directory are saved as output."
   ]
  },
  {
   "cell_type": "code",
   "execution_count": 3,
   "metadata": {
    "_cell_guid": "79c7e3d0-c299-4dcb-8224-4455121ee9b0",
    "_uuid": "d629ff2d2480ee46fbb7e2d37f6b5fab8052498a"
   },
   "outputs": [],
   "source": [
    "URL_ENDPOINT = \"http://cs.mcgill.ca/~ksinha4/datasets/kaggle/\"\n",
    "\n",
    "train_x = np.loadtxt(URL_ENDPOINT+\"train_x.csv\", delimiter=\",\")\n",
    "train_y = np.loadtxt(URL_ENDPOINT+\"train_y.csv\", delimiter=\",\")\n",
    "test_x = np.loadtxt(URL_ENDPOINT+\"test_x.csv\", delimiter=\",\")\n"
   ]
  },
  {
   "cell_type": "code",
   "execution_count": 7,
   "metadata": {},
   "outputs": [
    {
     "ename": "ValueError",
     "evalue": "could not convert string to float: 'Id'",
     "output_type": "error",
     "traceback": [
      "\u001b[0;31m---------------------------------------------------------------------------\u001b[0m",
      "\u001b[0;31mValueError\u001b[0m                                Traceback (most recent call last)",
      "\u001b[0;32m<ipython-input-7-8c1ac7ac4ae5>\u001b[0m in \u001b[0;36m<module>\u001b[0;34m()\u001b[0m\n\u001b[0;32m----> 1\u001b[0;31m \u001b[0mtest_y\u001b[0m \u001b[0;34m=\u001b[0m \u001b[0mnp\u001b[0m\u001b[0;34m.\u001b[0m\u001b[0mloadtxt\u001b[0m\u001b[0;34m(\u001b[0m\u001b[0;34m\"submission.csv\"\u001b[0m\u001b[0;34m,\u001b[0m \u001b[0mdelimiter\u001b[0m \u001b[0;34m=\u001b[0m \u001b[0;34m\",\"\u001b[0m\u001b[0;34m)\u001b[0m\u001b[0;34m\u001b[0m\u001b[0m\n\u001b[0m",
      "\u001b[0;32m~/anaconda3/lib/python3.6/site-packages/numpy/lib/npyio.py\u001b[0m in \u001b[0;36mloadtxt\u001b[0;34m(fname, dtype, comments, delimiter, converters, skiprows, usecols, unpack, ndmin, encoding)\u001b[0m\n\u001b[1;32m   1090\u001b[0m         \u001b[0;31m# converting the data\u001b[0m\u001b[0;34m\u001b[0m\u001b[0;34m\u001b[0m\u001b[0m\n\u001b[1;32m   1091\u001b[0m         \u001b[0mX\u001b[0m \u001b[0;34m=\u001b[0m \u001b[0;32mNone\u001b[0m\u001b[0;34m\u001b[0m\u001b[0m\n\u001b[0;32m-> 1092\u001b[0;31m         \u001b[0;32mfor\u001b[0m \u001b[0mx\u001b[0m \u001b[0;32min\u001b[0m \u001b[0mread_data\u001b[0m\u001b[0;34m(\u001b[0m\u001b[0m_loadtxt_chunksize\u001b[0m\u001b[0;34m)\u001b[0m\u001b[0;34m:\u001b[0m\u001b[0;34m\u001b[0m\u001b[0m\n\u001b[0m\u001b[1;32m   1093\u001b[0m             \u001b[0;32mif\u001b[0m \u001b[0mX\u001b[0m \u001b[0;32mis\u001b[0m \u001b[0;32mNone\u001b[0m\u001b[0;34m:\u001b[0m\u001b[0;34m\u001b[0m\u001b[0m\n\u001b[1;32m   1094\u001b[0m                 \u001b[0mX\u001b[0m \u001b[0;34m=\u001b[0m \u001b[0mnp\u001b[0m\u001b[0;34m.\u001b[0m\u001b[0marray\u001b[0m\u001b[0;34m(\u001b[0m\u001b[0mx\u001b[0m\u001b[0;34m,\u001b[0m \u001b[0mdtype\u001b[0m\u001b[0;34m)\u001b[0m\u001b[0;34m\u001b[0m\u001b[0m\n",
      "\u001b[0;32m~/anaconda3/lib/python3.6/site-packages/numpy/lib/npyio.py\u001b[0m in \u001b[0;36mread_data\u001b[0;34m(chunk_size)\u001b[0m\n\u001b[1;32m   1017\u001b[0m \u001b[0;34m\u001b[0m\u001b[0m\n\u001b[1;32m   1018\u001b[0m             \u001b[0;31m# Convert each value according to its column and store\u001b[0m\u001b[0;34m\u001b[0m\u001b[0;34m\u001b[0m\u001b[0m\n\u001b[0;32m-> 1019\u001b[0;31m             \u001b[0mitems\u001b[0m \u001b[0;34m=\u001b[0m \u001b[0;34m[\u001b[0m\u001b[0mconv\u001b[0m\u001b[0;34m(\u001b[0m\u001b[0mval\u001b[0m\u001b[0;34m)\u001b[0m \u001b[0;32mfor\u001b[0m \u001b[0;34m(\u001b[0m\u001b[0mconv\u001b[0m\u001b[0;34m,\u001b[0m \u001b[0mval\u001b[0m\u001b[0;34m)\u001b[0m \u001b[0;32min\u001b[0m \u001b[0mzip\u001b[0m\u001b[0;34m(\u001b[0m\u001b[0mconverters\u001b[0m\u001b[0;34m,\u001b[0m \u001b[0mvals\u001b[0m\u001b[0;34m)\u001b[0m\u001b[0;34m]\u001b[0m\u001b[0;34m\u001b[0m\u001b[0m\n\u001b[0m\u001b[1;32m   1020\u001b[0m \u001b[0;34m\u001b[0m\u001b[0m\n\u001b[1;32m   1021\u001b[0m             \u001b[0;31m# Then pack it according to the dtype's nesting\u001b[0m\u001b[0;34m\u001b[0m\u001b[0;34m\u001b[0m\u001b[0m\n",
      "\u001b[0;32m~/anaconda3/lib/python3.6/site-packages/numpy/lib/npyio.py\u001b[0m in \u001b[0;36m<listcomp>\u001b[0;34m(.0)\u001b[0m\n\u001b[1;32m   1017\u001b[0m \u001b[0;34m\u001b[0m\u001b[0m\n\u001b[1;32m   1018\u001b[0m             \u001b[0;31m# Convert each value according to its column and store\u001b[0m\u001b[0;34m\u001b[0m\u001b[0;34m\u001b[0m\u001b[0m\n\u001b[0;32m-> 1019\u001b[0;31m             \u001b[0mitems\u001b[0m \u001b[0;34m=\u001b[0m \u001b[0;34m[\u001b[0m\u001b[0mconv\u001b[0m\u001b[0;34m(\u001b[0m\u001b[0mval\u001b[0m\u001b[0;34m)\u001b[0m \u001b[0;32mfor\u001b[0m \u001b[0;34m(\u001b[0m\u001b[0mconv\u001b[0m\u001b[0;34m,\u001b[0m \u001b[0mval\u001b[0m\u001b[0;34m)\u001b[0m \u001b[0;32min\u001b[0m \u001b[0mzip\u001b[0m\u001b[0;34m(\u001b[0m\u001b[0mconverters\u001b[0m\u001b[0;34m,\u001b[0m \u001b[0mvals\u001b[0m\u001b[0;34m)\u001b[0m\u001b[0;34m]\u001b[0m\u001b[0;34m\u001b[0m\u001b[0m\n\u001b[0m\u001b[1;32m   1020\u001b[0m \u001b[0;34m\u001b[0m\u001b[0m\n\u001b[1;32m   1021\u001b[0m             \u001b[0;31m# Then pack it according to the dtype's nesting\u001b[0m\u001b[0;34m\u001b[0m\u001b[0;34m\u001b[0m\u001b[0m\n",
      "\u001b[0;32m~/anaconda3/lib/python3.6/site-packages/numpy/lib/npyio.py\u001b[0m in \u001b[0;36mfloatconv\u001b[0;34m(x)\u001b[0m\n\u001b[1;32m    736\u001b[0m         \u001b[0;32mif\u001b[0m \u001b[0;34m'0x'\u001b[0m \u001b[0;32min\u001b[0m \u001b[0mx\u001b[0m\u001b[0;34m:\u001b[0m\u001b[0;34m\u001b[0m\u001b[0m\n\u001b[1;32m    737\u001b[0m             \u001b[0;32mreturn\u001b[0m \u001b[0mfloat\u001b[0m\u001b[0;34m.\u001b[0m\u001b[0mfromhex\u001b[0m\u001b[0;34m(\u001b[0m\u001b[0mx\u001b[0m\u001b[0;34m)\u001b[0m\u001b[0;34m\u001b[0m\u001b[0m\n\u001b[0;32m--> 738\u001b[0;31m         \u001b[0;32mreturn\u001b[0m \u001b[0mfloat\u001b[0m\u001b[0;34m(\u001b[0m\u001b[0mx\u001b[0m\u001b[0;34m)\u001b[0m\u001b[0;34m\u001b[0m\u001b[0m\n\u001b[0m\u001b[1;32m    739\u001b[0m \u001b[0;34m\u001b[0m\u001b[0m\n\u001b[1;32m    740\u001b[0m     \u001b[0mtyp\u001b[0m \u001b[0;34m=\u001b[0m \u001b[0mdtype\u001b[0m\u001b[0;34m.\u001b[0m\u001b[0mtype\u001b[0m\u001b[0;34m\u001b[0m\u001b[0m\n",
      "\u001b[0;31mValueError\u001b[0m: could not convert string to float: 'Id'"
     ]
    }
   ],
   "source": [
    "#test_y = np.loadtxt(\"submission.csv\", delimiter = \",\")"
   ]
  },
  {
   "cell_type": "code",
   "execution_count": 8,
   "metadata": {
    "_cell_guid": "a6953943-e108-4525-9d10-ec93b3ddea31",
    "_uuid": "032160d88ed95bdd959eed2e1fb2dc02627278e4"
   },
   "outputs": [],
   "source": [
    "\n",
    "def find_max_center(images):\n",
    "    images= images.reshape(64, 64) \n",
    "    image = cp.deepcopy(images)\n",
    "    for i in range(len(image)):\n",
    "        for j in range(len(image[i])):\n",
    "            if image[i][j] < 200:\n",
    "                image[i][j] = 0\n",
    "    inter = skm.regionprops(skm.label(image))\n",
    "    ind_l = [j.area for j in inter]\n",
    "    ind = ind_l.index(max(ind_l))\n",
    "    return skt.resize(inter[ind].image,(64,64))\n"
   ]
  },
  {
   "cell_type": "code",
   "execution_count": 11,
   "metadata": {
    "_cell_guid": "eee3f1f1-dbe6-46b9-bc80-fbc295731bae",
    "_uuid": "1b920de15ff0313dee6f52050c6de38c0a129f00"
   },
   "outputs": [
    {
     "name": "stderr",
     "output_type": "stream",
     "text": [
      "/home/peterpark/anaconda3/lib/python3.6/site-packages/skimage/transform/_warps.py:84: UserWarning: The default mode, 'constant', will be changed to 'reflect' in skimage 0.15.\n",
      "  warn(\"The default mode, 'constant', will be changed to 'reflect' in \"\n"
     ]
    }
   ],
   "source": [
    "\n",
    "processed_x = [find_max_center(i) for i in train_x]\n"
   ]
  },
  {
   "cell_type": "code",
   "execution_count": 16,
   "metadata": {
    "_cell_guid": "15e0825d-2ab4-4167-a17b-7fe953bdde41",
    "_uuid": "255e5436eb8e692d44070efeca47cf450591a43d"
   },
   "outputs": [
    {
     "name": "stdout",
     "output_type": "stream",
     "text": [
      "error:  182849.46600246\n"
     ]
    }
   ],
   "source": [
    "import math\n",
    "import numpy as np\n",
    "def sigmoid( x):\n",
    "    return 1 / (1 + math.exp(-x * 1.0))\n",
    "\n",
    "def dSigmoid(x):\n",
    "    return x * (1.0 - x)\n",
    "\n",
    "class edge:\n",
    "    def __init__(self, connectedNeuron):\n",
    "        self.connectedNeuron = connectedNeuron\n",
    "        self.weight = np.random.normal()\n",
    "        self.dWeight = 0.0\n",
    "class Neuron:\n",
    "    eta = 0.001\n",
    "    alpha = 0.01\n",
    "    def __init__(self, layer):\n",
    "        self.dendrons = []\n",
    "        self.error = 0.0\n",
    "        self.gradient = 0.0\n",
    "        self.output = 0.0\n",
    "        if layer is None:\n",
    "            pass\n",
    "        else:\n",
    "            for neuron in layer:\n",
    "                con = edge(neuron)\n",
    "                self.dendrons.append(con)\n",
    "    def addError(self, err):\n",
    "        self.error += err\n",
    "    def setError(self, err):\n",
    "        self.error = err\n",
    "    def setOutput(self, output):\n",
    "        self.output = output\n",
    "    def feedForword(self):\n",
    "        sumOutput = 0\n",
    "        if len(self.dendrons) == 0:\n",
    "            return\n",
    "        for dendron in self.dendrons:\n",
    "            sumOutput += dendron.connectedNeuron.output * dendron.weight\n",
    "        self.output = sigmoid(sumOutput)\n",
    "        \n",
    "    def backPropagate(self):\n",
    "        self.gradient = self.error * dSigmoid(self.output);\n",
    "        for dendron in self.dendrons:\n",
    "            dendron.dWeight = -Neuron.eta * (\n",
    "            dendron.connectedNeuron.output * self.gradient) + self.alpha * dendron.dWeight;\n",
    "            dendron.weight = dendron.weight + dendron.dWeight;\n",
    "            dendron.connectedNeuron.addError(dendron.weight * self.gradient);\n",
    "        self.error = 0;\n",
    "class Network:\n",
    "    def __init__(self, topology):\n",
    "        self.layers = []\n",
    "        for numNeuron in topology:\n",
    "            layer = []\n",
    "            for i in range(numNeuron):\n",
    "                if (len(self.layers) == 0):\n",
    "                    layer.append(Neuron(None))\n",
    "                else:\n",
    "                    layer.append(Neuron(self.layers[-1]))\n",
    "            layer.append(Neuron(None))\n",
    "            layer[-1].setOutput(1)\n",
    "            self.layers.append(layer)\n",
    "\n",
    "    def setInput(self, inputs):\n",
    "        for i in range(len(inputs)):\n",
    "            self.layers[0][i].setOutput(inputs[i])\n",
    "\n",
    "    def feedForword(self):\n",
    "        for layer in self.layers[1:]:\n",
    "            for neuron in layer:\n",
    "                neuron.feedForword();\n",
    "\n",
    "    def backPropagate(self, target):\n",
    "        for i in range(len(target)):\n",
    "            self.layers[-1][i].setError(self.layers[-1][i].output - target[i] )\n",
    "        for layer in self.layers[::-1]:\n",
    "            for neuron in layer:\n",
    "                neuron.backPropagate()\n",
    "    def getError(self, target):\n",
    "        err = 0\n",
    "        for i in range(len(target)):\n",
    "            e = (self.layers[-1][i].output -target[i] )\n",
    "            err += e ** 2\n",
    "        err = err / len(target)\n",
    "        err = math.sqrt(err)\n",
    "        return err\n",
    "    def getResults(self):\n",
    "        output = []\n",
    "        for neuron in self.layers[-1]:\n",
    "            output.append(neuron.output)\n",
    "        output.pop()\n",
    "        return output\n",
    "\n",
    "    def getThResults(self):\n",
    "        output = []\n",
    "        for neuron in self.layers[-1]:\n",
    "            o = neuron.output\n",
    "            if (o > 0.5):\n",
    "                o = 1\n",
    "            else:\n",
    "                o = 0\n",
    "            output.append(o)\n",
    "        output.pop()\n",
    "        return output\n",
    "    \n",
    "topology = []\n",
    "topology.append(4096)\n",
    "topology.append(40)\n",
    "topology.append(1)\n",
    "net = Network(topology)\n",
    "Neuron.eta = 0.09\n",
    "Neuron.alpha = 0.015\n",
    "epoch = 1\n",
    "while epoch > 0:\n",
    "    err = 0\n",
    "    inputs = processed_x\n",
    "    outputs = train_y\n",
    "    for i in range(len(inputs)):\n",
    "        net.setInput([item for sublist in np.ndarray.tolist(inputs[i]) for item in sublist])\n",
    "        net.feedForword()\n",
    "        net.backPropagate([outputs[i]])\n",
    "        err += net.getError([outputs[i]])\n",
    "    print(\"error: \", err)\n",
    "    epoch -= 1\n",
    "    if (err < 0.01):\n",
    "        break\n",
    "\n",
    "#while True:\n",
    "#    a = input(\"type 1st input :\")\n",
    "#    b = input(\"type 2nd input :\")\n",
    "#    net.setInput([a, b])\n",
    "#    net.feedForword()\n",
    "#    print(net.getThResults())\n"
   ]
  },
  {
   "cell_type": "code",
   "execution_count": null,
   "metadata": {
    "_cell_guid": "9dc17ca2-97b5-41c6-9d64-f8233fc721a2",
    "_uuid": "17400446ebe2c2fe88c105d961661371a0270440",
    "collapsed": true
   },
   "outputs": [],
   "source": []
  },
  {
   "cell_type": "code",
   "execution_count": null,
   "metadata": {
    "_cell_guid": "372b1a58-b761-485d-8ed4-12871ab821ff",
    "_uuid": "2e8cb516b5c90e5d2ae9bc773f76857b9d1358d9",
    "collapsed": true
   },
   "outputs": [],
   "source": [
    "train_y"
   ]
  },
  {
   "cell_type": "code",
   "execution_count": null,
   "metadata": {
    "_cell_guid": "096f4dbc-c5f6-4426-8625-cee532a6bd90",
    "_uuid": "0237136f7154b54a5b433dad31e3ba0179f29511",
    "collapsed": true
   },
   "outputs": [],
   "source": []
  }
 ],
 "metadata": {
  "kernelspec": {
   "display_name": "Python 3",
   "language": "python",
   "name": "python3"
  },
  "language_info": {
   "codemirror_mode": {
    "name": "ipython",
    "version": 3
   },
   "file_extension": ".py",
   "mimetype": "text/x-python",
   "name": "python",
   "nbconvert_exporter": "python",
   "pygments_lexer": "ipython3",
   "version": "3.6.3"
  }
 },
 "nbformat": 4,
 "nbformat_minor": 1
}
